{
 "cells": [
  {
   "cell_type": "code",
   "execution_count": 17,
   "metadata": {},
   "outputs": [
    {
     "name": "stdout",
     "output_type": "stream",
     "text": [
      "26.94777777777778\n"
     ]
    },
    {
     "data": {
      "text/plain": [
       "26.94777777777778"
      ]
     },
     "execution_count": 17,
     "metadata": {},
     "output_type": "execute_result"
    }
   ],
   "source": [
    "import numpy as np\n",
    "import csv\n",
    "dd = []\n",
    "with open(\"fishdata.csv\", \"r\") as r:\n",
    "    reader = csv.DictReader(r)\n",
    "    for row in reader:\n",
    "        if row[\"family\"] == \"Labridae\":\n",
    "            dd.append(row)\n",
    "zz = []\n",
    "for item in dd:\n",
    "    if item[\"length\"] != \"NA\":\n",
    "        zz.append(float(item[\"length\"]))\n",
    "y = np.mean(zz)\n",
    "print(y)\n",
    "\n",
    "\n",
    "with open(\"fishaverages.csv\", \"w+\") as g:\n",
    "    for value in dd:\n",
    "        g.write(str(value) + \"\\n\")\n",
    "\n",
    "\n",
    "def meanlength(valuelist):\n",
    "    sums = 0\n",
    "    for item in valuelist:\n",
    "        sums += item\n",
    "    \n",
    "    return(sums/len(valuelist))\n",
    "\n",
    "meanlength(zz)\n",
    "\n",
    "#for bonus homework, consider max function to call a dictionary; key would be species + value would be largest value\n",
    "#loop within loops\n",
    "#WRITE A FUNCTION TO WRITE THE LARGEST SPECIES IN EACH FAMILY\n",
    "    \n",
    "\n",
    "\n",
    "\n",
    "        \n",
    "\n",
    "\n",
    "        \n",
    "        \n",
    "    "
   ]
  },
  {
   "cell_type": "code",
   "execution_count": 4,
   "metadata": {},
   "outputs": [
    {
     "name": "stdout",
     "output_type": "stream",
     "text": [
      "hello has a length of 5 characters.\n"
     ]
    }
   ],
   "source": [
    "def stringanalyzer(xx):\n",
    "    y = len(xx)\n",
    "    print(\"{} has a length of {} characters.\".format(xx,y))\n",
    "\n",
    "stringanalyzer(\"hello\")"
   ]
  },
  {
   "cell_type": "code",
   "execution_count": 23,
   "metadata": {},
   "outputs": [
    {
     "name": "stdout",
     "output_type": "stream",
     "text": [
      "String:       \n",
      "       has a length of 6 characters.\n"
     ]
    }
   ],
   "source": [
    "stringanalyzer()"
   ]
  },
  {
   "cell_type": "markdown",
   "metadata": {},
   "source": [
    "# Thursday 2-20"
   ]
  },
  {
   "cell_type": "code",
   "execution_count": 7,
   "metadata": {},
   "outputs": [
    {
     "name": "stdout",
     "output_type": "stream",
     "text": [
      "['1', '2', 2] has a length of 3 characters.\n"
     ]
    }
   ],
   "source": [
    "mylist = [\"1\",\"2\",2]\n",
    "stringanalyzer(mylist)\n",
    "#expect to take in multiple types of variables in function \n",
    "#function works with what it has"
   ]
  },
  {
   "cell_type": "code",
   "execution_count": 52,
   "metadata": {},
   "outputs": [],
   "source": [
    "def ATContent(sequence):\n",
    "    sigfigs = input(\"Number of digits after decimal point desired: \")\n",
    "    Alist = []\n",
    "    Tlist = []\n",
    "    TotalList = []\n",
    "    \n",
    "    if type(sequence) != str:\n",
    "        print(\"Error: the sequence is not a string.\")\n",
    "    \n",
    "    else:\n",
    "    \n",
    "        modseq = sequence.upper()       \n",
    "\n",
    "        for char in modseq:\n",
    "            if char == \"A\" or char == \"T\" or char == \"C\" or char == \"G\":\n",
    "                TotalList.append(char)\n",
    "            if char == \"A\":\n",
    "                Alist.append(char)\n",
    "            if char == \"T\":\n",
    "                Tlist.append(char)\n",
    "    \n",
    "        content = ((len(Alist) + len(Tlist))/len(TotalList))*100\n",
    "    \n",
    "        return round(content, ndigits = int(sigfigs))\n",
    "    #return statement lets you do stuff\n",
    "    #print(\"The AT content is {}%\".format(content))\n",
    "\n",
    "#there is a fucntion for strings .count that could tell you how much of A or whatever there are\n",
    "#everything in indented block is local to function (i.e. all variables not saved outside of function)-->variable scope is specific to that function; can make\n",
    "#variables available outside of fxn but don't usually want that because want things in function to be SPECIFIC to function\n",
    "#now want to round to 2 sigfigs and make sure works  \n",
    "#can also do default values by adding equal size; if not equal sign then required; call quickly while make it flexible\n",
    "#functions encapsulate things so that if something wrong with particular part of long code, can know what it is by going straight back to function \n",
    "#see if can make function for anything 2 lines or longer of code"
   ]
  },
  {
   "cell_type": "code",
   "execution_count": 53,
   "metadata": {},
   "outputs": [
    {
     "name": "stdout",
     "output_type": "stream",
     "text": [
      "Number of digits after decimal point desired: 3\n"
     ]
    },
    {
     "data": {
      "text/plain": [
       "62.5"
      ]
     },
     "execution_count": 53,
     "metadata": {},
     "output_type": "execute_result"
    }
   ],
   "source": [
    "ATContent(\"ATCGATATATATCGCGACTATCGA\")"
   ]
  },
  {
   "cell_type": "code",
   "execution_count": 24,
   "metadata": {},
   "outputs": [
    {
     "data": {
      "text/plain": [
       "True"
      ]
     },
     "execution_count": 24,
     "metadata": {},
     "output_type": "execute_result"
    }
   ],
   "source": [
    "#u can do assign return statement output to ANOTHER VARIABLE SO U CAN MANIPULATE THAT SHIT; printed stuff lost to electrons in computer\n",
    "con1 = ATContent(\"ATCGATCGATCGATCGATCGATCGATCGATCG\")\n",
    "con2 = ATContent(\"AAAAAAAAAAAAGGGGGCTCTCTCTGGGGAAA\")\n",
    "con2 > con1"
   ]
  },
  {
   "cell_type": "code",
   "execution_count": 27,
   "metadata": {},
   "outputs": [
    {
     "data": {
      "text/plain": [
       "77.78"
      ]
     },
     "execution_count": 27,
     "metadata": {},
     "output_type": "execute_result"
    }
   ],
   "source": [
    "ATContent(\"aaaacgttt\")"
   ]
  },
  {
   "cell_type": "code",
   "execution_count": 31,
   "metadata": {},
   "outputs": [
    {
     "name": "stdout",
     "output_type": "stream",
     "text": [
      "Number of digits after decimal point desired: 3\n"
     ]
    },
    {
     "data": {
      "text/plain": [
       "46.667"
      ]
     },
     "execution_count": 31,
     "metadata": {},
     "output_type": "execute_result"
    }
   ],
   "source": [
    "ATContent(\"aaaaattcgcgcgcg\")"
   ]
  },
  {
   "cell_type": "code",
   "execution_count": 38,
   "metadata": {},
   "outputs": [],
   "source": [
    "def outOfOrder(number, pet):\n",
    "    print(\"I own {} {}s\".format(number, pet))"
   ]
  },
  {
   "cell_type": "code",
   "execution_count": 41,
   "metadata": {},
   "outputs": [
    {
     "name": "stdout",
     "output_type": "stream",
     "text": [
      "I own 3 dogs\n",
      "I own dog 3s\n"
     ]
    }
   ],
   "source": [
    "outOfOrder(3, \"dog\")\n",
    "outOfOrder(\"dog\", 3)"
   ]
  },
  {
   "cell_type": "code",
   "execution_count": 43,
   "metadata": {},
   "outputs": [
    {
     "name": "stdout",
     "output_type": "stream",
     "text": [
      "I own 3 dogs\n"
     ]
    }
   ],
   "source": [
    "outOfOrder(pet=\"dog\", number = 3)\n",
    "#order doesn't matter but pain in the butt"
   ]
  },
  {
   "cell_type": "code",
   "execution_count": 44,
   "metadata": {},
   "outputs": [],
   "source": [
    "def outOfOrder(number=3, pet=\"snake\"):\n",
    "    print(\"I own {} {}s\".format(number, pet))"
   ]
  },
  {
   "cell_type": "code",
   "execution_count": 46,
   "metadata": {},
   "outputs": [
    {
     "name": "stdout",
     "output_type": "stream",
     "text": [
      "I own 3 snakes\n"
     ]
    }
   ],
   "source": [
    "outOfOrder()"
   ]
  },
  {
   "cell_type": "code",
   "execution_count": 59,
   "metadata": {},
   "outputs": [
    {
     "name": "stdout",
     "output_type": "stream",
     "text": [
      "Number of digits after decimal point desired: 1\n"
     ]
    }
   ],
   "source": [
    "#assert statement (checking if something true and if so letting program continue)\n",
    "#nothing happened so assert statement true\n",
    "assert ATContent(\"ATCGNNNNNNNN\") == 50"
   ]
  },
  {
   "cell_type": "code",
   "execution_count": 60,
   "metadata": {},
   "outputs": [
    {
     "ename": "ZeroDivisionError",
     "evalue": "float division by zero",
     "output_type": "error",
     "traceback": [
      "\u001b[0;31m---------------------------------------------------------------------------\u001b[0m",
      "\u001b[0;31mZeroDivisionError\u001b[0m                         Traceback (most recent call last)",
      "\u001b[0;32m<ipython-input-60-890ea813da75>\u001b[0m in \u001b[0;36m<module>\u001b[0;34m\u001b[0m\n\u001b[1;32m      4\u001b[0m     \u001b[0my\u001b[0m \u001b[0;34m=\u001b[0m \u001b[0my\u001b[0m\u001b[0;34m/\u001b[0m\u001b[0mz\u001b[0m\u001b[0;34m\u001b[0m\u001b[0;34m\u001b[0m\u001b[0m\n\u001b[1;32m      5\u001b[0m     \u001b[0;32mreturn\u001b[0m \u001b[0my\u001b[0m\u001b[0;34m\u001b[0m\u001b[0;34m\u001b[0m\u001b[0m\n\u001b[0;32m----> 6\u001b[0;31m \u001b[0mcreatebug\u001b[0m\u001b[0;34m(\u001b[0m\u001b[0;36m5\u001b[0m\u001b[0;34m)\u001b[0m\u001b[0;34m\u001b[0m\u001b[0;34m\u001b[0m\u001b[0m\n\u001b[0m",
      "\u001b[0;32m<ipython-input-60-890ea813da75>\u001b[0m in \u001b[0;36mcreatebug\u001b[0;34m(x)\u001b[0m\n\u001b[1;32m      2\u001b[0m     \u001b[0my\u001b[0m \u001b[0;34m=\u001b[0m \u001b[0mx\u001b[0m\u001b[0;34m**\u001b[0m\u001b[0;36m4\u001b[0m\u001b[0;34m\u001b[0m\u001b[0;34m\u001b[0m\u001b[0m\n\u001b[1;32m      3\u001b[0m     \u001b[0mz\u001b[0m \u001b[0;34m=\u001b[0m \u001b[0;36m0.\u001b[0m\u001b[0;34m\u001b[0m\u001b[0;34m\u001b[0m\u001b[0m\n\u001b[0;32m----> 4\u001b[0;31m     \u001b[0my\u001b[0m \u001b[0;34m=\u001b[0m \u001b[0my\u001b[0m\u001b[0;34m/\u001b[0m\u001b[0mz\u001b[0m\u001b[0;34m\u001b[0m\u001b[0;34m\u001b[0m\u001b[0m\n\u001b[0m\u001b[1;32m      5\u001b[0m     \u001b[0;32mreturn\u001b[0m \u001b[0my\u001b[0m\u001b[0;34m\u001b[0m\u001b[0;34m\u001b[0m\u001b[0m\n\u001b[1;32m      6\u001b[0m \u001b[0mcreatebug\u001b[0m\u001b[0;34m(\u001b[0m\u001b[0;36m5\u001b[0m\u001b[0;34m)\u001b[0m\u001b[0;34m\u001b[0m\u001b[0;34m\u001b[0m\u001b[0m\n",
      "\u001b[0;31mZeroDivisionError\u001b[0m: float division by zero"
     ]
    }
   ],
   "source": [
    "def createbug(x):\n",
    "    y = x**4\n",
    "    z = 0.\n",
    "    y = y/z\n",
    "    return y\n",
    "createbug(5)"
   ]
  },
  {
   "cell_type": "code",
   "execution_count": 61,
   "metadata": {},
   "outputs": [
    {
     "ename": "ZeroDivisionError",
     "evalue": "float division by zero",
     "output_type": "error",
     "traceback": [
      "\u001b[0;31m---------------------------------------------------------------------------\u001b[0m",
      "\u001b[0;31mZeroDivisionError\u001b[0m                         Traceback (most recent call last)",
      "\u001b[0;32m~/Developers/repos/eeb-c177-homework/class_assignments/debugme.py\u001b[0m in \u001b[0;36m<module>\u001b[0;34m\u001b[0m\n\u001b[1;32m      4\u001b[0m     \u001b[0my\u001b[0m \u001b[0;34m=\u001b[0m \u001b[0my\u001b[0m\u001b[0;34m/\u001b[0m\u001b[0mz\u001b[0m\u001b[0;34m\u001b[0m\u001b[0;34m\u001b[0m\u001b[0m\n\u001b[1;32m      5\u001b[0m     \u001b[0;32mreturn\u001b[0m \u001b[0my\u001b[0m\u001b[0;34m\u001b[0m\u001b[0;34m\u001b[0m\u001b[0m\n\u001b[0;32m----> 6\u001b[0;31m \u001b[0mcreatebug\u001b[0m\u001b[0;34m(\u001b[0m\u001b[0;36m5\u001b[0m\u001b[0;34m)\u001b[0m\u001b[0;34m\u001b[0m\u001b[0;34m\u001b[0m\u001b[0m\n\u001b[0m",
      "\u001b[0;32m~/Developers/repos/eeb-c177-homework/class_assignments/debugme.py\u001b[0m in \u001b[0;36mcreatebug\u001b[0;34m(x)\u001b[0m\n\u001b[1;32m      2\u001b[0m     \u001b[0my\u001b[0m \u001b[0;34m=\u001b[0m \u001b[0mx\u001b[0m\u001b[0;34m**\u001b[0m\u001b[0;36m4\u001b[0m\u001b[0;34m\u001b[0m\u001b[0;34m\u001b[0m\u001b[0m\n\u001b[1;32m      3\u001b[0m     \u001b[0mz\u001b[0m \u001b[0;34m=\u001b[0m \u001b[0;36m0.\u001b[0m\u001b[0;34m\u001b[0m\u001b[0;34m\u001b[0m\u001b[0m\n\u001b[0;32m----> 4\u001b[0;31m     \u001b[0my\u001b[0m \u001b[0;34m=\u001b[0m \u001b[0my\u001b[0m\u001b[0;34m/\u001b[0m\u001b[0mz\u001b[0m\u001b[0;34m\u001b[0m\u001b[0;34m\u001b[0m\u001b[0m\n\u001b[0m\u001b[1;32m      5\u001b[0m     \u001b[0;32mreturn\u001b[0m \u001b[0my\u001b[0m\u001b[0;34m\u001b[0m\u001b[0;34m\u001b[0m\u001b[0m\n\u001b[1;32m      6\u001b[0m \u001b[0mcreatebug\u001b[0m\u001b[0;34m(\u001b[0m\u001b[0;36m5\u001b[0m\u001b[0;34m)\u001b[0m\u001b[0;34m\u001b[0m\u001b[0;34m\u001b[0m\u001b[0m\n",
      "\u001b[0;31mZeroDivisionError\u001b[0m: float division by zero"
     ]
    }
   ],
   "source": [
    "run debugme.py"
   ]
  },
  {
   "cell_type": "code",
   "execution_count": null,
   "metadata": {},
   "outputs": [],
   "source": []
  }
 ],
 "metadata": {
  "kernelspec": {
   "display_name": "Python 3",
   "language": "python",
   "name": "python3"
  },
  "language_info": {
   "codemirror_mode": {
    "name": "ipython",
    "version": 3
   },
   "file_extension": ".py",
   "mimetype": "text/x-python",
   "name": "python",
   "nbconvert_exporter": "python",
   "pygments_lexer": "ipython3",
   "version": "3.7.5"
  }
 },
 "nbformat": 4,
 "nbformat_minor": 2
}
