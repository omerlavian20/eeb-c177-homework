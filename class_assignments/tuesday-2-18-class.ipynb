{
 "cells": [
  {
   "cell_type": "code",
   "execution_count": 17,
   "metadata": {},
   "outputs": [
    {
     "name": "stdout",
     "output_type": "stream",
     "text": [
      "26.94777777777778\n"
     ]
    },
    {
     "data": {
      "text/plain": [
       "26.94777777777778"
      ]
     },
     "execution_count": 17,
     "metadata": {},
     "output_type": "execute_result"
    }
   ],
   "source": [
    "import numpy as np\n",
    "import csv\n",
    "dd = []\n",
    "with open(\"fishdata.csv\", \"r\") as r:\n",
    "    reader = csv.DictReader(r)\n",
    "    for row in reader:\n",
    "        if row[\"family\"] == \"Labridae\":\n",
    "            dd.append(row)\n",
    "zz = []\n",
    "for item in dd:\n",
    "    if item[\"length\"] != \"NA\":\n",
    "        zz.append(float(item[\"length\"]))\n",
    "y = np.mean(zz)\n",
    "print(y)\n",
    "\n",
    "\n",
    "with open(\"fishaverages.csv\", \"w+\") as g:\n",
    "    for value in dd:\n",
    "        g.write(str(value) + \"\\n\")\n",
    "\n",
    "\n",
    "def meanlength(valuelist):\n",
    "    sums = 0\n",
    "    for item in valuelist:\n",
    "        sums += item\n",
    "    \n",
    "    return(sums/len(valuelist))\n",
    "\n",
    "meanlength(zz)\n",
    "\n",
    "#for bonus homework, consider max function to call a dictionary; key would be species + value would be largest value\n",
    "#loop within loops\n",
    "#WRITE A FUNCTION TO WRITE THE LARGEST SPECIES IN EACH FAMILY\n",
    "    \n",
    "\n",
    "\n",
    "\n",
    "        \n",
    "\n",
    "\n",
    "        \n",
    "        \n",
    "    "
   ]
  },
  {
   "cell_type": "code",
   "execution_count": 22,
   "metadata": {},
   "outputs": [
    {
     "name": "stdout",
     "output_type": "stream",
     "text": [
      "String: oehyrfbvdnsjciaxkoudfgjvbsclafjv\n",
      "oehyrfbvdnsjciaxkoudfgjvbsclafjv has a length of 32 characters.\n"
     ]
    }
   ],
   "source": [
    "def stringanalyzer():\n",
    "    x = input(\"String: \")\n",
    "    y = len(x)\n",
    "    print(\"{} has a length of {} characters.\".format(x,y))\n",
    "\n",
    "stringanalyzer()"
   ]
  },
  {
   "cell_type": "code",
   "execution_count": 23,
   "metadata": {},
   "outputs": [
    {
     "name": "stdout",
     "output_type": "stream",
     "text": [
      "String:       \n",
      "       has a length of 6 characters.\n"
     ]
    }
   ],
   "source": [
    "stringanalyzer()"
   ]
  },
  {
   "cell_type": "code",
   "execution_count": null,
   "metadata": {},
   "outputs": [],
   "source": []
  }
 ],
 "metadata": {
  "kernelspec": {
   "display_name": "Python 3",
   "language": "python",
   "name": "python3"
  },
  "language_info": {
   "codemirror_mode": {
    "name": "ipython",
    "version": 3
   },
   "file_extension": ".py",
   "mimetype": "text/x-python",
   "name": "python",
   "nbconvert_exporter": "python",
   "pygments_lexer": "ipython3",
   "version": "3.7.5"
  }
 },
 "nbformat": 4,
 "nbformat_minor": 2
}
