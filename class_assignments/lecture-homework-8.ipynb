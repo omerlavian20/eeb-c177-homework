{
 "cells": [
  {
   "cell_type": "markdown",
   "metadata": {},
   "source": [
    "# 1a.)"
   ]
  },
  {
   "cell_type": "code",
   "execution_count": 202,
   "metadata": {},
   "outputs": [
    {
     "name": "stdout",
     "output_type": "stream",
     "text": [
      "Temperature: 34\n",
      "F or C? c\n",
      "The temperature in Fahrenheit is 93.2\n"
     ]
    }
   ],
   "source": [
    "xx= input(\"Temperature: \")\n",
    "uu = input('F or C? ')\n",
    "if uu.upper() == 'F':\n",
    "    yy = (float(xx23) - 32)* 5/9\n",
    "    print('The temperature in Celcius is {}'.format(yy))\n",
    "    \n",
    "elif uu.upper() == 'C':\n",
    "    zz = float(xx)*9/5 + 32\n",
    "    print('The temperature in Fahrenheit is {}'.format(zz))\n",
    "    #add else statement so that catch cases when user wrong\n",
    "else:\n",
    "    print('Error: {} and {} cannot be used together.'.format(xx, uu))"
   ]
  },
  {
   "cell_type": "markdown",
   "metadata": {},
   "source": [
    "# 1b.)"
   ]
  },
  {
   "cell_type": "code",
   "execution_count": 294,
   "metadata": {},
   "outputs": [
    {
     "name": "stdout",
     "output_type": "stream",
     "text": [
      "Temperature: 12qwdsax\n",
      "F or C? sxzc\n",
      "Error: sxzc is not a temperature unit.\n"
     ]
    }
   ],
   "source": [
    "xx= input(\"Temperature: \")\n",
    "uu = input('F or C? ')\n",
    "if uu.upper() == 'F' and xx[1].isdigit() == True:\n",
    "#index allows the program to take in negative numbers while still checking that there is a number in the input\n",
    "    yy = (float(xx) - 32)* 5/9\n",
    "    print('The temperature in Celcius is {number:.{digits}f}'.format(number=yy, digits=1))\n",
    "    \n",
    "elif uu.upper() == 'C' and xx[1].isdigit() == True:\n",
    "    zz = float(xx)*9/5 + 32\n",
    "    print('The temperature in Fahrenheit is {number:.{digits}f}'.format(number=zz, digits=1))\n",
    "\n",
    "elif xx[1].isdigit() == False and uu.upper() == \"F\" or uu.upper() == \"C\":\n",
    "    print('Error: {} is not a number. For temperature values with decimals, put a 0 in front of the decimal point.'.format(xx))\n",
    "\n",
    "elif uu.upper() != \"F\" and uu.upper() != \"C\":\n",
    "    print('Error: {} is not a temperature unit.'.format(uu))\n",
    "\n",
    "else:\n",
    "    print('Error: {} and {} are not compatible.'.format(xx,uu))\n"
   ]
  },
  {
   "cell_type": "markdown",
   "metadata": {},
   "source": [
    "# 1c.)"
   ]
  },
  {
   "cell_type": "code",
   "execution_count": 285,
   "metadata": {},
   "outputs": [],
   "source": [
    "def tempconvert():\n",
    "    xx= input(\"Temperature: \")\n",
    "    uu = input('F or C? ')\n",
    "    if uu.upper() == 'F' and xx[1].isdigit() == True:\n",
    "        yy = (float(xx) - 32)* 5/9\n",
    "        print('The temperature in Celcius is {number:.{digits}f}'.format(number=yy, digits=1))\n",
    "\n",
    "    elif uu.upper() == 'C' and xx.isdigit() == True:\n",
    "        zz = float(xx)*9/5 + 32\n",
    "        print('The temperature in Fahrenheit is {number:.{digits}f}'.format(number=zz, digits=1))\n",
    "\n",
    "    elif xx[1].isdigit() == False and uu.upper() == \"F\" or uu.upper == \"C\":\n",
    "        print('Error: {} is not a number. For temperature values with decimals, put a 0 in front of the decimal point.'.format(xx))\n",
    "    \n",
    "    elif uu.upper != \"F\" and uu.upper != \"C\":\n",
    "        print('Error: {} is not a temperature unit.'.format(uu))\n",
    "    \n",
    "    else:\n",
    "       print('Error: {} and {} are not compatible.'.format(xx,uu)) "
   ]
  },
  {
   "cell_type": "code",
   "execution_count": 286,
   "metadata": {},
   "outputs": [
    {
     "name": "stdout",
     "output_type": "stream",
     "text": [
      "Temperature: 34\n",
      "F or C? d\n",
      "Error: d is not a temperature unit.\n"
     ]
    }
   ],
   "source": [
    "tempconvert()"
   ]
  },
  {
   "cell_type": "code",
   "execution_count": 287,
   "metadata": {},
   "outputs": [
    {
     "name": "stdout",
     "output_type": "stream",
     "text": [
      "Temperature: -0.45\n",
      "F or C? f\n",
      "The temperature in Celcius is -18.0\n"
     ]
    }
   ],
   "source": [
    "tempconvert()"
   ]
  },
  {
   "cell_type": "code",
   "execution_count": 288,
   "metadata": {},
   "outputs": [
    {
     "name": "stdout",
     "output_type": "stream",
     "text": [
      "Temperature: -.34\n",
      "F or C? f\n",
      "Error: -.34 is not a number. For temperature values with decimals, put a 0 in front of the decimal point.\n"
     ]
    }
   ],
   "source": [
    "tempconvert()"
   ]
  },
  {
   "cell_type": "code",
   "execution_count": 290,
   "metadata": {},
   "outputs": [
    {
     "name": "stdout",
     "output_type": "stream",
     "text": [
      "Temperature: wei0924r3o\n",
      "F or C? f\n",
      "Error: wei0924r3o is not a number. For temperature values with decimals, put a 0 in front of the decimal point.\n"
     ]
    }
   ],
   "source": [
    "tempconvert()"
   ]
  },
  {
   "cell_type": "code",
   "execution_count": 291,
   "metadata": {},
   "outputs": [
    {
     "name": "stdout",
     "output_type": "stream",
     "text": [
      "Temperature: sdaxcz\n",
      "F or C? qwdsaxcz\n",
      "Error: qwdsaxcz is not a temperature unit.\n"
     ]
    }
   ],
   "source": [
    "tempconvert()"
   ]
  },
  {
   "cell_type": "code",
   "execution_count": 293,
   "metadata": {},
   "outputs": [
    {
     "name": "stdout",
     "output_type": "stream",
     "text": [
      "Temperature: rfv\n",
      "F or C? F\n",
      "Error: rfv is not a number. For temperature values with decimals, put a 0 in front of the decimal point.\n"
     ]
    }
   ],
   "source": [
    "tempconvert()"
   ]
  },
  {
   "cell_type": "code",
   "execution_count": 296,
   "metadata": {},
   "outputs": [
    {
     "name": "stdout",
     "output_type": "stream",
     "text": [
      "Temperature: wqed\n",
      "F or C? F\n",
      "Error: wqed is not a number. For temperature values with decimals, put a 0 in front of the decimal point.\n"
     ]
    }
   ],
   "source": [
    "tempconvert()"
   ]
  },
  {
   "cell_type": "markdown",
   "metadata": {},
   "source": [
    "# 2a.)"
   ]
  },
  {
   "cell_type": "code",
   "execution_count": 159,
   "metadata": {},
   "outputs": [],
   "source": [
    "import csv"
   ]
  },
  {
   "cell_type": "code",
   "execution_count": 177,
   "metadata": {},
   "outputs": [],
   "source": [
    "dd = []\n",
    "with open('Dalziel2016_data.csv', newline=\"\") as rr:\n",
    "    reader = csv.DictReader(rr)\n",
    "\n",
    "with open(\"Dalziel_1920.txt\", \"w+\") as hh:\n",
    "    for item in dd:\n",
    "        if item[\"year\"] == \"1920\":\n",
    "            hh.write(str(item))\n",
    "        \n",
    "#I don't know what I'm doing wrong to be honest\n",
    "            \n",
    "        "
   ]
  },
  {
   "cell_type": "markdown",
   "metadata": {},
   "source": [
    "# 2b.)"
   ]
  },
  {
   "cell_type": "code",
   "execution_count": 176,
   "metadata": {},
   "outputs": [],
   "source": [
    "with open(\"Dalziel2016_data.csv\") as fr:\n",
    "    reader = csv.DictReader(fr)\n",
    "    header = reader.fieldnames\n",
    "    with open(\"Dalziel_Washington.txt\", \"w\") as fw:\n",
    "        writer=csv.writer(fw)\n",
    "        for row in reader:\n",
    "            if row[\"loc\"] == \"WASHINGTON\":\n",
    "                writer.writerow(row)\n",
    "#Still not working for some reason. I have no idea what I'm doing wrong"
   ]
  },
  {
   "cell_type": "markdown",
   "metadata": {},
   "source": [
    "# 2c.)"
   ]
  },
  {
   "cell_type": "code",
   "execution_count": 297,
   "metadata": {},
   "outputs": [],
   "source": [
    "locations = []\n",
    "pops = []\n",
    "\n",
    "with open(\"Dalziel2016_data.csv\", newline = '') as dalzi:\n",
    "    reader = csv.DictReader(dalzi)\n",
    "    for row in reader:\n",
    "        locations.append(row['loc'])\n",
    "    for row in reader:\n",
    "        pops.append(row[\"pop\"])\n",
    "\n",
    "locpop = dict(zip(locations,pops))\n",
    "\n",
    "g = open(\"loc_pop.txt\", \"w+\")\n",
    "for item in locpop:\n",
    "    g.write(item)\n",
    "\n",
    "g.close()\n",
    "#Again, no idea what I'm doing wrong. The program ran with no error message but the text file remains unedited."
   ]
  },
  {
   "cell_type": "code",
   "execution_count": null,
   "metadata": {},
   "outputs": [],
   "source": []
  }
 ],
 "metadata": {
  "kernelspec": {
   "display_name": "Python 3",
   "language": "python",
   "name": "python3"
  },
  "language_info": {
   "codemirror_mode": {
    "name": "ipython",
    "version": 3
   },
   "file_extension": ".py",
   "mimetype": "text/x-python",
   "name": "python",
   "nbconvert_exporter": "python",
   "pygments_lexer": "ipython3",
   "version": "3.7.5"
  }
 },
 "nbformat": 4,
 "nbformat_minor": 2
}
