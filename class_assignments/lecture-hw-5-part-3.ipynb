{
 "cells": [
  {
   "cell_type": "markdown",
   "metadata": {},
   "source": [
    "### 1.) Write a Python script to sort (ascending and descending) a dictionary by value."
   ]
  },
  {
   "cell_type": "code",
   "execution_count": 1,
   "metadata": {},
   "outputs": [
    {
     "name": "stdout",
     "output_type": "stream",
     "text": [
      "Original dictionary:  {1: 2, 3: 4, 4: 3, 2: 1, 0: 0}\n",
      "Dictionary in ascending order by value:  [(0, 0), (2, 1), (1, 2), (4, 3), (3, 4)]\n",
      "Dictionary in descending order by value:  {3: 4, 4: 3, 1: 2, 2: 1, 0: 0}\n"
     ]
    }
   ],
   "source": [
    "import operator\n",
    "#import a package of functions called operator\n",
    "d = {1: 2, 3: 4, 4: 3, 2: 1, 0: 0}\n",
    "#create a dictionary, which is a collection of associated values\n",
    "print('Original dictionary: ',d )\n",
    "#print out the dictionary we just made\n",
    "sorted_d = sorted(d.items(),key=operator.itemgetter(1))\n",
    "#create a variable called sorted_d which points to a function called sorted that, with other input, sorts the dicitonary d in ascending order by value\n",
    "print('Dictionary in ascending order by value: ', sorted_d)\n",
    "#print out the variable sorted_d\n",
    "sorted_d = dict( sorted(d.items(), key=operator.itemgetter(1),reverse=True))\n",
    "#modidy sorted_d so that the function sorted acts in the opposite fasion\n",
    "print('Dictionary in descending order by value: ',sorted_d)\n",
    "#print the dictionary sorted in descending order by value"
   ]
  },
  {
   "cell_type": "markdown",
   "metadata": {},
   "source": [
    "### 2.) Write a Python script to add a key to a dictionary."
   ]
  },
  {
   "cell_type": "code",
   "execution_count": 2,
   "metadata": {},
   "outputs": [
    {
     "name": "stdout",
     "output_type": "stream",
     "text": [
      "{0: 10, 1: 20}\n",
      "{0: 10, 1: 20, 2: 30}\n"
     ]
    }
   ],
   "source": [
    "d = {0:10, 1:20}\n",
    "#create a dictionary d\n",
    "print(d)\n",
    "#print out the dictionary\n",
    "d.update({2:30})\n",
    "#use the function d.update to add a new value/key to d\n",
    "print(d)\n",
    "#print out the modified dictionary"
   ]
  },
  {
   "cell_type": "markdown",
   "metadata": {},
   "source": [
    "### 3.) Write a Python script to concatenate following dictionaries to create a new one.\n",
    "\n",
    "### Sample Dictionary :\n",
    "dic1={1:10, 2:20}\n",
    "dic2={3:30, 4:40}\n",
    "dic3={5:50,6:60}\n",
    "### Expected Result : \n",
    "{1: 10, 2: 20, 3: 30, 4: 40, 5: 50, 6: 60}\n",
    "\n"
   ]
  },
  {
   "cell_type": "code",
   "execution_count": 4,
   "metadata": {},
   "outputs": [
    {
     "name": "stdout",
     "output_type": "stream",
     "text": [
      "{1: 10, 2: 20, 3: 30, 4: 40, 5: 50, 6: 60}\n"
     ]
    }
   ],
   "source": [
    "dic1={1:10, 2:20}\n",
    "#make a dictionary called dic1\n",
    "dic2={3:30, 4:40}\n",
    "#make a dictionary called dic2\n",
    "dic3={5:50,6:60}\n",
    "#make a dictionary called dic3\n",
    "dic4={}\n",
    "#make a dictionary called dic4 with nothing in it\n",
    "for d in (dic1, dic2, dic3): dic4.update(d)\n",
    "#create a for loop that iterates through dic1, dic2, and dic3 and adds their contents to dic4\n",
    "print(dic4)\n",
    "#print out the modified dic4"
   ]
  },
  {
   "cell_type": "markdown",
   "metadata": {},
   "source": [
    "### 4.) Write a Python program to check whether a given key already exists in a dictionary."
   ]
  },
  {
   "cell_type": "code",
   "execution_count": 6,
   "metadata": {},
   "outputs": [
    {
     "name": "stdout",
     "output_type": "stream",
     "text": [
      "Key is present in the dictioary\n",
      "Key is not present in the dictionary\n"
     ]
    }
   ],
   "source": [
    "d={1: 10, 2: 20, 3: 30, 4: 40, 5: 50, 6: 60}\n",
    "#create a dictionary d\n",
    "def is_key_present(x):\n",
    "#define a function called is_key_present that takes a variable x\n",
    "    if x in d:\n",
    "#conditional statement; checking to see if the variable x is present in the dicionary d\n",
    "      print('Key is present in the dictioary')\n",
    "#print the string in parentheses if the if statement returns true\n",
    "    else:\n",
    "#defining what the program will do if the if statement returns false\n",
    "        print('Key is not present in the dictionary')\n",
    "#print the string in parentheses if the if statement returns false\n",
    "is_key_present(5)\n",
    "#testing function on 5\n",
    "is_key_present(9)\n",
    "#testing function on 9"
   ]
  },
  {
   "cell_type": "markdown",
   "metadata": {},
   "source": [
    "### 5.) Write a Python program to iterate over dictionaries using for loops.\n"
   ]
  },
  {
   "cell_type": "code",
   "execution_count": 10,
   "metadata": {},
   "outputs": [
    {
     "name": "stdout",
     "output_type": "stream",
     "text": [
      "x -> 10\n",
      "y -> 20\n",
      "z -> 30\n"
     ]
    }
   ],
   "source": [
    "d = {'x': 10, 'y': 20, 'z': 30}\n",
    "#create a dictionary d\n",
    "for dank, meme in d.items():\n",
    "#create a for loop that goes through the values in d; the comma tells Python that, for the purposes of this for loop, \"dank\" represents the key and \"meme\" represents the second value\n",
    "    print(dank,'->',meme)"
   ]
  },
  {
   "cell_type": "markdown",
   "metadata": {},
   "source": [
    "### 6.) Write a Python script to generate and print a dictionary that contains a number (between 1 and n) in the form (x, x*x)."
   ]
  },
  {
   "cell_type": "code",
   "execution_count": 15,
   "metadata": {},
   "outputs": [
    {
     "name": "stdout",
     "output_type": "stream",
     "text": [
      "Input a number22\n",
      "{1: 1, 2: 4, 3: 9, 4: 16, 5: 25, 6: 36, 7: 49, 8: 64, 9: 81, 10: 100, 11: 121, 12: 144, 13: 169, 14: 196, 15: 225, 16: 256, 17: 289, 18: 324, 19: 361, 20: 400, 21: 441, 22: 484}\n"
     ]
    }
   ],
   "source": [
    "n = int(input('Input a number'))\n",
    "#create a variable n that points to a number converted to an integer from a number typed by the user\n",
    "d=dict()\n",
    "#create a dictionary d\n",
    "for x in range(1,n+1):\n",
    "#create a for loop that iterates through the whole numbers 1 through n\n",
    "        d[x]=x*x\n",
    "#take each x in the range specified in the for loop, square that value, and put that newly calculated value into d\n",
    "print(d)\n",
    "#print out the dictionary d with the newly added values"
   ]
  },
  {
   "cell_type": "markdown",
   "metadata": {},
   "source": [
    "### 7.) Write a Python script to print a dictionary where the keys are numbers between 1 and 15 (both included) and the values are square of keys.\n",
    "\n",
    "### Sample Dictionary\n",
    "{1: 1, 2: 4, 3: 9, 4: 16, 5: 25, 6: 36, 7: 49, 8: 64, 9: 81, 10: 100, 11: 121, 12: 144, 13: 169, 14: 196, 15: 225}"
   ]
  },
  {
   "cell_type": "code",
   "execution_count": 16,
   "metadata": {},
   "outputs": [
    {
     "name": "stdout",
     "output_type": "stream",
     "text": [
      "{1: 1, 2: 4, 3: 9, 4: 16, 5: 25, 6: 36, 7: 49, 8: 64, 9: 81, 10: 100, 11: 121, 12: 144, 13: 169, 14: 196, 15: 225}\n"
     ]
    }
   ],
   "source": [
    "d=dict()\n",
    "#create a dictionary d\n",
    "for x in range (1,16):\n",
    "#create a for loop that iterates through the range of numbers 1 through 16; the range is defined such that 16 is not included\n",
    "    d[x]=x**2\n",
    "#square every number in the range and add the number and the square to d\n",
    "print(d)\n",
    "#print the dictionary with the squared numbers"
   ]
  },
  {
   "cell_type": "markdown",
   "metadata": {},
   "source": [
    "### 8.) Write a Python script to merge two Python dictionaries."
   ]
  },
  {
   "cell_type": "code",
   "execution_count": 17,
   "metadata": {},
   "outputs": [
    {
     "name": "stdout",
     "output_type": "stream",
     "text": [
      "{'a': 100, 'b': 200, 'x': 300, 'y': 200}\n"
     ]
    }
   ],
   "source": [
    "d1 = {'a': 100, 'b': 200}\n",
    "#create a dictionary d1\n",
    "d2 = {'x': 300, 'y': 200}\n",
    "#create a dictionary d2\n",
    "d = d1.copy()\n",
    "#create a variable d that points to a copy of d1\n",
    "d.update(d2)\n",
    "#add d2 to the copy of d1\n",
    "print(d)\n",
    "#print the modified d1 copy\n"
   ]
  },
  {
   "cell_type": "markdown",
   "metadata": {},
   "source": [
    "### 9.) Write a Python program to iterate over dictionaries using for loops.\n"
   ]
  },
  {
   "cell_type": "code",
   "execution_count": 18,
   "metadata": {},
   "outputs": [
    {
     "name": "stdout",
     "output_type": "stream",
     "text": [
      "Red corresponds to 1\n",
      "Green corresponds to 2\n",
      "Blue corresponds to 3\n"
     ]
    }
   ],
   "source": [
    "d = {'Red': 1, 'Green': 2, 'Blue': 3}\n",
    "#create a dictionary d\n",
    "for meme, dank in d.items():\n",
    "#create a for loop that iterates through all the values in d; the comma between meme and dank suggests that for this for loop meme corresponds to the key and dank corresponds to the value on the other side of the colon\n",
    "    print(meme, 'corresponds to', dank)\n",
    "#for everly value in d, state what value each key corresponds to"
   ]
  },
  {
   "cell_type": "markdown",
   "metadata": {},
   "source": [
    "### 10.) Write a Python program to sum all the items in a dictionary."
   ]
  },
  {
   "cell_type": "code",
   "execution_count": 19,
   "metadata": {},
   "outputs": [
    {
     "name": "stdout",
     "output_type": "stream",
     "text": [
      "293\n"
     ]
    }
   ],
   "source": [
    "my_dict = {'data1':100, 'data2':-54, 'data3':247}\n",
    "#create a dictionary my_dict\n",
    "print(sum(my_dict.values()))\n",
    "#print out the sum of all the values in my_dict"
   ]
  },
  {
   "cell_type": "code",
   "execution_count": null,
   "metadata": {},
   "outputs": [],
   "source": []
  }
 ],
 "metadata": {
  "kernelspec": {
   "display_name": "Python 3",
   "language": "python",
   "name": "python3"
  },
  "language_info": {
   "codemirror_mode": {
    "name": "ipython",
    "version": 3
   },
   "file_extension": ".py",
   "mimetype": "text/x-python",
   "name": "python",
   "nbconvert_exporter": "python",
   "pygments_lexer": "ipython3",
   "version": "3.7.5"
  }
 },
 "nbformat": 4,
 "nbformat_minor": 2
}
