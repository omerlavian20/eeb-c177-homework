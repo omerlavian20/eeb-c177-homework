{
 "cells": [
  {
   "cell_type": "code",
   "execution_count": 34,
   "metadata": {},
   "outputs": [
    {
     "name": "stdout",
     "output_type": "stream",
     "text": [
      "Temperature: qwer\n",
      "F or C? wert\n",
      "Error: qwer and wert cannot be used together.\n"
     ]
    }
   ],
   "source": [
    " \n",
    "    xx= input(\"Temperature: \")\n",
    "    uu = input('F or C? ')\n",
    "    if uu.upper() == 'F':\n",
    "        yy = (float(xx) - 32)* 5/9\n",
    "        print('The temperature in Celcius is {}'.format(yy))\n",
    "    elif uu.upper() == 'C':\n",
    "        zz = float(xx)*9/5 + 32\n",
    "        print('The temperature in Fahrenheit is {}'.format(zz))\n",
    "    #add else statement so that catch cases when user wrong\n",
    "    else:\n",
    "        print('Error: {} and {} cannot be used together.'.format(xx, uu))\n",
    "        #to check if a variable is a digit, do variable.isdigit() to check if in fact a number\n",
    "        #write program so not smart person can use the program; minimize number of steps to less than 3\n",
    "        #consider how to round digits of output to control number of digits in a float; try to \n"
   ]
  },
  {
   "cell_type": "markdown",
   "metadata": {},
   "source": [
    "## And, Or, and Not statements exist in program flow. Moral of story. Make sure program easily useable."
   ]
  },
  {
   "cell_type": "code",
   "execution_count": 35,
   "metadata": {},
   "outputs": [],
   "source": [
    "#\\n means new line "
   ]
  },
  {
   "cell_type": "code",
   "execution_count": 36,
   "metadata": {},
   "outputs": [
    {
     "name": "stdout",
     "output_type": "stream",
     "text": [
      "ATCGGGGCCCATATATATATTA\n",
      "TATATTATAGGCGCGCGTA\n"
     ]
    }
   ],
   "source": [
    "myDNA = 'ATCGGGGCCCATATATATATTA\\nTATATTATAGGCGCGCGTA'\n",
    "print(myDNA)"
   ]
  },
  {
   "cell_type": "code",
   "execution_count": 37,
   "metadata": {},
   "outputs": [
    {
     "name": "stdout",
     "output_type": "stream",
     "text": [
      "'badly named file.txt'        \u001b[0m\u001b[01;34mpython-notes\u001b[0m/\r\n",
      " blake.csv                    thursday-1-23.md\r\n",
      " bodyM.csv                    Thursday-2-6.ipynb\r\n",
      " ch-8-exercises.ipynb        'Thursday Classwork.ipynb'\r\n",
      " commands-1-16-20-class.txt  'Tuesday 2-4 Class.ipynb'\r\n",
      " \u001b[01;34mdata-shell\u001b[0m/                  tuesday-class-1-21.txt\r\n",
      " dnaseq.txt                   week-6-thursday-class.ipynb\r\n",
      " \u001b[01;34mhomework-two\u001b[0m/                week-6-tuesday-lecture.ipynb\r\n",
      " lecture-hw-5-part-3.ipynb    \u001b[01;34mweek-three-hw\u001b[0m/\r\n"
     ]
    }
   ],
   "source": [
    "ls"
   ]
  },
  {
   "cell_type": "code",
   "execution_count": 38,
   "metadata": {},
   "outputs": [],
   "source": [
    "#working with file \n",
    "with open('dnaseq.txt', \"w\") as wf:\n",
    "    #w is read (r) or write\n",
    "    #wf means writable file\n",
    "    for line in myDNA:\n",
    "        wf.write(myDNA)\n",
    "    #looks for white spaces from lines and add them to wf\n",
    "    #for loop automatically closes file"
   ]
  },
  {
   "cell_type": "code",
   "execution_count": 39,
   "metadata": {},
   "outputs": [
    {
     "name": "stdout",
     "output_type": "stream",
     "text": [
      "<_io.TextIOWrapper name='dnaseq.txt' mode='w' encoding='UTF-8'>\n"
     ]
    }
   ],
   "source": [
    "with open('dnaseq.txt', \"w\") as rf:\n",
    "    print(rf)"
   ]
  },
  {
   "cell_type": "code",
   "execution_count": 47,
   "metadata": {},
   "outputs": [
    {
     "name": "stdout",
     "output_type": "stream",
     "text": [
      "<_io.TextIOWrapper name='dnaseq.txt' mode='r' encoding='UTF-8'>\n"
     ]
    }
   ],
   "source": [
    "with open('dnaseq.txt', \"r\") as rf:\n",
    "    print(rf)"
   ]
  },
  {
   "cell_type": "code",
   "execution_count": 54,
   "metadata": {},
   "outputs": [
    {
     "name": "stdout",
     "output_type": "stream",
     "text": [
      "ATCGATCGATCGATCG\n",
      "\n"
     ]
    }
   ],
   "source": [
    "with open('dnaseq.txt', \"r\") as rf:\n",
    "    for line in rf: \n",
    "        print(line)"
   ]
  },
  {
   "cell_type": "markdown",
   "metadata": {},
   "source": [
    "# Reading Files"
   ]
  },
  {
   "cell_type": "code",
   "execution_count": 55,
   "metadata": {},
   "outputs": [],
   "source": [
    "#os module lets you change directories"
   ]
  },
  {
   "cell_type": "code",
   "execution_count": 56,
   "metadata": {},
   "outputs": [],
   "source": [
    "import os"
   ]
  },
  {
   "cell_type": "code",
   "execution_count": 76,
   "metadata": {},
   "outputs": [],
   "source": [
    "datapath = '/home/eebc177student/Developers/repos/csb/python/data'\n",
    "os.chdir(datapath)"
   ]
  },
  {
   "cell_type": "code",
   "execution_count": 79,
   "metadata": {},
   "outputs": [],
   "source": [
    "dd=[]\n",
    "with open('Dalziel2016_data.csv', \"r\") as rr:\n",
    "    for line in rr:\n",
    "        #print(line)\n",
    "        dd.append(line)"
   ]
  },
  {
   "cell_type": "code",
   "execution_count": 80,
   "metadata": {},
   "outputs": [
    {
     "data": {
      "text/plain": [
       "'biweek,year,loc,cases,pop\\n'"
      ]
     },
     "execution_count": 80,
     "metadata": {},
     "output_type": "execute_result"
    }
   ],
   "source": [
    "dd[0]"
   ]
  },
  {
   "cell_type": "code",
   "execution_count": 81,
   "metadata": {},
   "outputs": [
    {
     "data": {
      "text/plain": [
       "'1,1906,BALTIMORE,NA,526822.1365\\n'"
      ]
     },
     "execution_count": 81,
     "metadata": {},
     "output_type": "execute_result"
    }
   ],
   "source": [
    "dd[1]\n",
    "#how select only cases from 1910?\n",
    "#how capture each line for "
   ]
  },
  {
   "cell_type": "code",
   "execution_count": null,
   "metadata": {},
   "outputs": [],
   "source": [
    "dd=[]\n",
    "with open ()"
   ]
  }
 ],
 "metadata": {
  "kernelspec": {
   "display_name": "Python 3",
   "language": "python",
   "name": "python3"
  },
  "language_info": {
   "codemirror_mode": {
    "name": "ipython",
    "version": 3
   },
   "file_extension": ".py",
   "mimetype": "text/x-python",
   "name": "python",
   "nbconvert_exporter": "python",
   "pygments_lexer": "ipython3",
   "version": "3.7.5"
  }
 },
 "nbformat": 4,
 "nbformat_minor": 2
}
