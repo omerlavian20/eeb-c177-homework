{
 "cells": [
  {
   "cell_type": "code",
   "execution_count": 1,
   "metadata": {},
   "outputs": [],
   "source": [
    "#Quiz Review\n",
    "#collections overview found in last lecture\n",
    "#defaultdict=want default value when add new key; doesn't alwways start with 0\n",
    "#DEFAULTDICT(INT) IS WHAT YOU USE FOR COUNTING!!!!\n",
    "#MUST DO PARENTHESES WITH SPLIT FOR IT TO ACT AS FUNCTION\n",
    "#APPEND THINGS TO ADD THINGS TO LIST\n",
    "#range gives NUMBER OF THING-->doesn't include end number; starts counting at 0\n",
    "#split splits on spaces by default; add what split on in parentheses"
   ]
  },
  {
   "cell_type": "code",
   "execution_count": 12,
   "metadata": {},
   "outputs": [
    {
     "name": "stdout",
     "output_type": "stream",
     "text": [
      "['THIS', 'IS', 'MY']\n"
     ]
    }
   ],
   "source": [
    "words = ['this', 'is', 'my']\n",
    "bigwords=[]\n",
    "#another way to make a list besides just brackets\n",
    "for word in words:\n",
    "    bigwords.append(word.upper())\n",
    "print(bigwords)"
   ]
  },
  {
   "cell_type": "code",
   "execution_count": 14,
   "metadata": {},
   "outputs": [
    {
     "name": "stdout",
     "output_type": "stream",
     "text": [
      "W\n",
      "h\n",
      "i\n",
      "t\n",
      "n\n",
      "e\n",
      "y\n"
     ]
    }
   ],
   "source": [
    "name = 'Whitney'\n",
    "for letter in name:\n",
    "    print(letter)"
   ]
  },
  {
   "cell_type": "code",
   "execution_count": 44,
   "metadata": {},
   "outputs": [
    {
     "name": "stdout",
     "output_type": "stream",
     "text": [
      "the value at key a is 1\n",
      "It is odd\n",
      "the value at key b is 2\n",
      "It is even\n",
      "the value at key c is 3\n",
      "It is odd\n",
      "the value at key d is 4\n",
      "It is even\n",
      "the value at key e is 5\n",
      "It is odd\n"
     ]
    }
   ],
   "source": [
    "numbers = {'a':1, 'b':2, 'c':3, 'd':4, 'e':5}\n",
    "for key in numbers:\n",
    "    print('the value at key {} is {}'.format(key, numbers[key]))\n",
    "    if numbers[key] % 2 == 0:\n",
    "        print('It is even')\n",
    "    elif numbers[key] %2 != 0:\n",
    "        print('It is odd')\n",
    "#if put curly braces in string, do .format on that string, then thing in parentheses fills in braces"
   ]
  },
  {
   "cell_type": "code",
   "execution_count": 29,
   "metadata": {},
   "outputs": [
    {
     "data": {
      "text/plain": [
       "dict"
      ]
     },
     "execution_count": 29,
     "metadata": {},
     "output_type": "execute_result"
    }
   ],
   "source": [
    "type(numbers)"
   ]
  },
  {
   "cell_type": "code",
   "execution_count": 33,
   "metadata": {},
   "outputs": [
    {
     "data": {
      "text/plain": [
       "[1, 2, 3, 4, 5]"
      ]
     },
     "execution_count": 33,
     "metadata": {},
     "output_type": "execute_result"
    }
   ],
   "source": [
    "actnum"
   ]
  },
  {
   "cell_type": "markdown",
   "metadata": {},
   "source": [
    "# While Loops"
   ]
  },
  {
   "cell_type": "code",
   "execution_count": null,
   "metadata": {},
   "outputs": [],
   "source": [
    "#WHILE LOOPS CAN FUCK UP COMPUTER BY CREATING INFINITE LOOPS"
   ]
  },
  {
   "cell_type": "markdown",
   "metadata": {},
   "source": [
    "# Conditional Tests"
   ]
  },
  {
   "cell_type": "code",
   "execution_count": 45,
   "metadata": {},
   "outputs": [
    {
     "name": "stdout",
     "output_type": "stream",
     "text": [
      "False\n"
     ]
    }
   ],
   "source": [
    "print('ATGCTT'.islower())"
   ]
  },
  {
   "cell_type": "code",
   "execution_count": 48,
   "metadata": {},
   "outputs": [
    {
     "name": "stdout",
     "output_type": "stream",
     "text": [
      "False\n"
     ]
    }
   ],
   "source": [
    "print(4==5)"
   ]
  },
  {
   "cell_type": "code",
   "execution_count": 49,
   "metadata": {},
   "outputs": [
    {
     "name": "stdout",
     "output_type": "stream",
     "text": [
      "False\n"
     ]
    }
   ],
   "source": [
    "print(4!=4)"
   ]
  },
  {
   "cell_type": "code",
   "execution_count": 50,
   "metadata": {},
   "outputs": [
    {
     "name": "stdout",
     "output_type": "stream",
     "text": [
      "True\n"
     ]
    }
   ],
   "source": [
    "print('v' in ['v', 'w', 'l'])"
   ]
  },
  {
   "cell_type": "code",
   "execution_count": null,
   "metadata": {},
   "outputs": [],
   "source": [
    "#control program flow this way \n",
    "#elif useful for if checking multiple things\n",
    "#else does every other case not included before\n",
    "#can do if and and to check for two conditions at once; also or (one of two conditions) and not (one thing without including another)"
   ]
  },
  {
   "cell_type": "code",
   "execution_count": null,
   "metadata": {},
   "outputs": [],
   "source": []
  }
 ],
 "metadata": {
  "kernelspec": {
   "display_name": "Python 3",
   "language": "python",
   "name": "python3"
  },
  "language_info": {
   "codemirror_mode": {
    "name": "ipython",
    "version": 3
   },
   "file_extension": ".py",
   "mimetype": "text/x-python",
   "name": "python",
   "nbconvert_exporter": "python",
   "pygments_lexer": "ipython3",
   "version": "3.7.5"
  }
 },
 "nbformat": 4,
 "nbformat_minor": 2
}
