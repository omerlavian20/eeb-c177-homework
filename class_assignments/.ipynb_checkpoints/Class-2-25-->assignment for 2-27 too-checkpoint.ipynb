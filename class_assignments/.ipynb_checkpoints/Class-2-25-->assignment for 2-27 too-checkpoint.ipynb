{
 "cells": [
  {
   "cell_type": "markdown",
   "metadata": {},
   "source": [
    "# Pseudo-Code to Solve Bee Problem"
   ]
  },
  {
   "cell_type": "markdown",
   "metadata": {},
   "source": [
    "1.) read in file\n",
    "2.) isolate author column\n",
    "3.) write regex to remove parentheses; iterate over column to do this \n",
    "4.) write a regular expression to isolate individual words (i.e. remove dates)\n",
    "5.) transport a list of authors to another location, where it can be sorted alphabetically\n",
    "6.) find the number of unique instances of each author\n",
    "7.) find author with highest number of publications"
   ]
  },
  {
   "cell_type": "code",
   "execution_count": 1,
   "metadata": {},
   "outputs": [],
   "source": [
    "import csv\n",
    "import re"
   ]
  },
  {
   "cell_type": "code",
   "execution_count": 41,
   "metadata": {},
   "outputs": [
    {
     "ename": "NameError",
     "evalue": "name 'match_author' is not defined",
     "output_type": "error",
     "traceback": [
      "\u001b[0;31m---------------------------------------------------------------------------\u001b[0m",
      "\u001b[0;31mNameError\u001b[0m                                 Traceback (most recent call last)",
      "\u001b[0;32m<ipython-input-41-8e1d6c7afaad>\u001b[0m in \u001b[0;36m<module>\u001b[0;34m\u001b[0m\n\u001b[1;32m     42\u001b[0m \u001b[0mauthordict\u001b[0m \u001b[0;34m=\u001b[0m \u001b[0mdefaultdict\u001b[0m\u001b[0;34m(\u001b[0m\u001b[0mint\u001b[0m\u001b[0;34m)\u001b[0m\u001b[0;34m\u001b[0m\u001b[0;34m\u001b[0m\u001b[0m\n\u001b[1;32m     43\u001b[0m \u001b[0;32mfor\u001b[0m \u001b[0mrecord\u001b[0m \u001b[0;32min\u001b[0m \u001b[0mauthors\u001b[0m\u001b[0;34m:\u001b[0m\u001b[0;34m\u001b[0m\u001b[0;34m\u001b[0m\u001b[0m\n\u001b[0;32m---> 44\u001b[0;31m     \u001b[0mauthor_year\u001b[0m \u001b[0;34m=\u001b[0m \u001b[0mmatch_author\u001b[0m\u001b[0;34m(\u001b[0m\u001b[0mrecord\u001b[0m\u001b[0;34m)\u001b[0m\u001b[0;34m\u001b[0m\u001b[0;34m\u001b[0m\u001b[0m\n\u001b[0m\u001b[1;32m     45\u001b[0m \u001b[0;34m\u001b[0m\u001b[0m\n",
      "\u001b[0;31mNameError\u001b[0m: name 'match_author' is not defined"
     ]
    }
   ],
   "source": [
    "#can also put in with open as\n",
    "authors = []\n",
    "#makes file change easy\n",
    "inputpath = \"bee_list.txt\"\n",
    "#ONLY KEEPS FILE OPEN THRU LOOP\n",
    "with open(\"bee_list.txt\", \"r\") as bees:\n",
    "    #backslash t signifies tab\n",
    "    #each row is a dictionary; header is key, entry is value\n",
    "    reader = csv.DictReader(bees, delimiter = \"\\t\")\n",
    "    header = reader.fieldnames #just reader.fieldnames should only work within loop \n",
    "    for row in reader:\n",
    "        authors.append(row[\"Taxon Author\"])\n",
    "\n",
    "\n",
    "\n",
    "RE2 = r\"[A-Z][a-z][A-Z]?[a-z]*[\\-[A-Z]*[a-z]*[A-Z]*[a-z]*]*\"\n",
    "#must recognize year; \n",
    "#\\w captures number, letters, and accents \n",
    "class_regex = re.compile(r'\\(?([\\w,\\&\\-\\s]*),\\s(\\d{4})\\)?') \n",
    "#capture group can individually be caught and manipulated; want what is INSIDE Of parentheses, not parentheses themselves\n",
    "authors_split = re.findall(RE2,str(authors))\n",
    "\n",
    "from collections import defaultdict\n",
    "author_counter = defaultdict(int)\n",
    "for item in authors_split:\n",
    "    author_counter[item] += 1\n",
    "\n",
    "#re.findall(class_regex, str(authors))\n",
    "#findall lets you do search of WHOLE FILE\n",
    "\n",
    "def capturegroups(record):\n",
    "    author_match = re.match(class_regex, record)\n",
    "    authors = author_match.group(1)\n",
    "    dates = author_match.group(2)\n",
    "    #re.split splits string given a separator input\n",
    "    authors = re.split(', | \\&', authors) #turn authors string into a list split by those symbols\n",
    "    return[authors, dates]\n",
    "\n",
    "capturegroups(\"Tadauchi, Miyanaga & Dawut, 1974\")\n",
    "\n",
    "from collections import defaultdict\n",
    "authordict = defaultdict(int)\n",
    "for record in authors:\n",
    "    author_year = match_author(record)\n",
    "    \n"
   ]
  },
  {
   "cell_type": "code",
   "execution_count": null,
   "metadata": {},
   "outputs": [],
   "source": [
    "import numpy as np"
   ]
  },
  {
   "cell_type": "code",
   "execution_count": 4,
   "metadata": {},
   "outputs": [
    {
     "name": "stdout",
     "output_type": "stream",
     "text": [
      "('Cockerell', 3394)\n"
     ]
    }
   ],
   "source": [
    "#why sorting necessary here\n",
    "maxcites = np.max(sorted(author_counter.values()))\n",
    "for item in author_counter.items():\n",
    "    if bool(re.findall(str(maxcites), str(item))) == True:\n",
    "        print(item)"
   ]
  },
  {
   "cell_type": "code",
   "execution_count": 17,
   "metadata": {},
   "outputs": [
    {
     "name": "stdout",
     "output_type": "stream",
     "text": [
      "no\n"
     ]
    }
   ],
   "source": [
    "#consider solving problems with pseudo-code\n",
    "#re.match returns FIRST THING IT MATCHES IN STRING OR NONE AT ALL\n",
    "#check for no-match with reg ex\n",
    "if bool(re.match(str(\"Dalziel, 2005\"),RE2)) == True:\n",
    "    print(author)\n",
    "else:\n",
    "    print(\"no\")\n",
    "\n",
    "    "
   ]
  },
  {
   "cell_type": "code",
   "execution_count": 22,
   "metadata": {},
   "outputs": [
    {
     "name": "stdout",
     "output_type": "stream",
     "text": [
      "no\n",
      "no\n",
      "no\n",
      "no\n"
     ]
    }
   ],
   "source": []
  },
  {
   "cell_type": "code",
   "execution_count": null,
   "metadata": {},
   "outputs": [],
   "source": []
  }
 ],
 "metadata": {
  "kernelspec": {
   "display_name": "Python 3",
   "language": "python",
   "name": "python3"
  },
  "language_info": {
   "codemirror_mode": {
    "name": "ipython",
    "version": 3
   },
   "file_extension": ".py",
   "mimetype": "text/x-python",
   "name": "python",
   "nbconvert_exporter": "python",
   "pygments_lexer": "ipython3",
   "version": "3.7.5"
  }
 },
 "nbformat": 4,
 "nbformat_minor": 2
}
