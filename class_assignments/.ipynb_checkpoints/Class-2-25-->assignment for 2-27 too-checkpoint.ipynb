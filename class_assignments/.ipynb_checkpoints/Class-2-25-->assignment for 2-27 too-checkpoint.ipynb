{
 "cells": [
  {
   "cell_type": "markdown",
   "metadata": {},
   "source": [
    "# Pseudo-Code to Solve Bee Problem"
   ]
  },
  {
   "cell_type": "markdown",
   "metadata": {},
   "source": [
    "1.) read in file\n",
    "2.) isolate author column\n",
    "3.) write regex to remove parentheses; iterate over column to do this \n",
    "4.) write a regular expression to isolate individual words (i.e. remove dates)\n",
    "5.) transport a list of authors to another location, where it can be sorted alphabetically\n",
    "6.) find the number of unique instances of each author\n",
    "7.) find author with highest number of publications"
   ]
  },
  {
   "cell_type": "code",
   "execution_count": 6,
   "metadata": {},
   "outputs": [],
   "source": [
    "import csv\n",
    "import re"
   ]
  },
  {
   "cell_type": "code",
   "execution_count": 62,
   "metadata": {},
   "outputs": [],
   "source": [
    "#can also put in with open as\n",
    "authors = []\n",
    "#makes file change easy\n",
    "inputpath = \"bee_list.txt\"\n",
    "#ONLY KEEPS FILE OPEN THRU LOOP\n",
    "with open(\"bee_list.txt\", \"r\") as bees:\n",
    "    #backslash t signifies tab\n",
    "    #each row is a dictionary; header is key, entry is value\n",
    "    reader = csv.DictReader(bees, delimiter = \"\\t\")\n",
    "    header = reader.fieldnames #just reader.fieldnames should only work within loop \n",
    "    for row in reader:\n",
    "        authors.append(row[\"Taxon Author\"])\n",
    "\n",
    "\n",
    "\n",
    "RE2 = r\"[A-Z][a-z][A-Z]?[a-z]*[\\-[A-Z]*[a-z]*[A-Z]*[a-z]*]*\"\n",
    "authors_split = re.findall(RE2,str(authors))\n",
    "\n",
    "from collections import defaultdict\n",
    "author_counter = defaultdict(int)\n",
    "for item in authors_split:\n",
    "    author_counter[item] += 1\n",
    "\n",
    "\n",
    "          \n"
   ]
  },
  {
   "cell_type": "code",
   "execution_count": 63,
   "metadata": {},
   "outputs": [],
   "source": [
    "import numpy as np"
   ]
  },
  {
   "cell_type": "code",
   "execution_count": 84,
   "metadata": {},
   "outputs": [
    {
     "name": "stdout",
     "output_type": "stream",
     "text": [
      "('Cockerell', 3394)\n"
     ]
    }
   ],
   "source": [
    "#why sorting necessary here?\n",
    "maxcites = np.max(sorted(author_counter.values()))\n",
    "for item in author_counter.items():\n",
    "    if bool(re.findall(str(maxcites), str(item))) == True:\n",
    "        print(item)"
   ]
  },
  {
   "cell_type": "code",
   "execution_count": null,
   "metadata": {},
   "outputs": [],
   "source": [
    "\n",
    "\n",
    "    "
   ]
  },
  {
   "cell_type": "code",
   "execution_count": 29,
   "metadata": {},
   "outputs": [],
   "source": []
  },
  {
   "cell_type": "code",
   "execution_count": null,
   "metadata": {},
   "outputs": [],
   "source": []
  }
 ],
 "metadata": {
  "kernelspec": {
   "display_name": "Python 3",
   "language": "python",
   "name": "python3"
  },
  "language_info": {
   "codemirror_mode": {
    "name": "ipython",
    "version": 3
   },
   "file_extension": ".py",
   "mimetype": "text/x-python",
   "name": "python",
   "nbconvert_exporter": "python",
   "pygments_lexer": "ipython3",
   "version": "3.7.5"
  }
 },
 "nbformat": 4,
 "nbformat_minor": 2
}
