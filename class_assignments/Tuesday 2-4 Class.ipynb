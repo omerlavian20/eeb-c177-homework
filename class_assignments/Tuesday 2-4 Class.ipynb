{
 "cells": [
  {
   "cell_type": "code",
   "execution_count": 1,
   "metadata": {},
   "outputs": [],
   "source": [
    "#have a default value for keys that weren't supplied a value\n",
    "from collections import defaultdict"
   ]
  },
  {
   "cell_type": "code",
   "execution_count": 2,
   "metadata": {},
   "outputs": [],
   "source": [
    "ice_cream = defaultdict(lambda:'Vanilla')\n",
    "#value will always be vanilla unless specificed otherwise"
   ]
  },
  {
   "cell_type": "code",
   "execution_count": 3,
   "metadata": {},
   "outputs": [
    {
     "name": "stdout",
     "output_type": "stream",
     "text": [
      "defaultdict(<function <lambda> at 0x7ff8c5a66dd0>, {})\n"
     ]
    }
   ],
   "source": [
    "print(ice_cream)"
   ]
  },
  {
   "cell_type": "code",
   "execution_count": 4,
   "metadata": {},
   "outputs": [],
   "source": [
    "ice_cream['Sarah'] = 'Chunky Monkey'"
   ]
  },
  {
   "cell_type": "code",
   "execution_count": 5,
   "metadata": {},
   "outputs": [
    {
     "name": "stdout",
     "output_type": "stream",
     "text": [
      "defaultdict(<function <lambda> at 0x7ff8c5a66dd0>, {'Sarah': 'Chunky Monkey'})\n"
     ]
    }
   ],
   "source": [
    "print(ice_cream)"
   ]
  },
  {
   "cell_type": "code",
   "execution_count": 10,
   "metadata": {},
   "outputs": [
    {
     "name": "stdout",
     "output_type": "stream",
     "text": [
      "Chunky Monkey\n",
      "Vanilla\n",
      "Peanut Butter\n"
     ]
    }
   ],
   "source": [
    "print(ice_cream['Sarah'])\n",
    "print(ice_cream['Joe'])\n",
    "ice_cream['Joe']='Peanut Butter'\n",
    "print(ice_cream['Joe'])\n",
    "#defaultic is helpful"
   ]
  },
  {
   "cell_type": "code",
   "execution_count": 12,
   "metadata": {},
   "outputs": [],
   "source": [
    "food_list = 'pizza bread pasta coffee bread pasta pasta burgers pasta burgers potato potato'.split()"
   ]
  },
  {
   "cell_type": "code",
   "execution_count": 13,
   "metadata": {},
   "outputs": [
    {
     "name": "stdout",
     "output_type": "stream",
     "text": [
      "['pizza', 'bread', 'pasta', 'coffee', 'bread', 'pasta', 'pasta', 'burgers', 'pasta', 'burgers', 'potato', 'potato']\n"
     ]
    }
   ],
   "source": [
    "print(food_list)\n",
    "#key would be word itself, value would be # of times it occurs"
   ]
  },
  {
   "cell_type": "code",
   "execution_count": 14,
   "metadata": {},
   "outputs": [
    {
     "name": "stdout",
     "output_type": "stream",
     "text": [
      "defaultdict(<class 'int'>, {})\n"
     ]
    }
   ],
   "source": [
    "food_counts=defaultdict(int)\n",
    "#provide default of zero; lambda lets you specify the \n",
    "print(food_counts)\n",
    "#don't see zero yes because need to add loop to count this"
   ]
  },
  {
   "cell_type": "code",
   "execution_count": 18,
   "metadata": {},
   "outputs": [],
   "source": [
    "for food in food_list:\n",
    "    #printing food gives list of foods; each \"food\" is one value in food list\n",
    "    #food_counts[food] = food_counts[food] + 1 #long; mistakes more likely #food is\n",
    "    \n",
    "    food_counts[food] += 1\n",
    "    #+= iterates by 1\n",
    "    #looking at each food\n",
    "    #increases by 1 every time a food occurs"
   ]
  },
  {
   "cell_type": "code",
   "execution_count": 22,
   "metadata": {
    "scrolled": true
   },
   "outputs": [
    {
     "name": "stdout",
     "output_type": "stream",
     "text": [
      "defaultdict(<class 'int'>, {'pizza': 1, 'bread': 2, 'pasta': 4, 'coffee': 1, 'burgers': 2, 'potato': 2, 'steak': 0})\n"
     ]
    }
   ],
   "source": [
    "print(food_counts)\n",
    "#dictionary created"
   ]
  },
  {
   "cell_type": "code",
   "execution_count": 23,
   "metadata": {},
   "outputs": [
    {
     "name": "stdout",
     "output_type": "stream",
     "text": [
      "0\n"
     ]
    }
   ],
   "source": [
    "print(food_counts['steak'])\n",
    "#default dict useful here in that it gives you zero as opposed to like WTF"
   ]
  },
  {
   "cell_type": "code",
   "execution_count": 24,
   "metadata": {},
   "outputs": [
    {
     "name": "stdout",
     "output_type": "stream",
     "text": [
      "1\n"
     ]
    }
   ],
   "source": [
    "print(food_counts['pizza'])"
   ]
  },
  {
   "cell_type": "code",
   "execution_count": 30,
   "metadata": {},
   "outputs": [],
   "source": [
    "city_list = [('TX','Austin'), ('TX','Houston'), ('NY','Albany'), ('NY', 'Syracuse'), ('NY', 'Buffalo'), ('NY', 'Rochester'), ('TX', 'Dallas'), ('CA','Sacramento'), ('CA', 'Palo Alto'), ('GA', 'Atlanta')]"
   ]
  },
  {
   "cell_type": "code",
   "execution_count": 31,
   "metadata": {},
   "outputs": [
    {
     "name": "stdout",
     "output_type": "stream",
     "text": [
      "[('TX', 'Austin'), ('TX', 'Houston'), ('NY', 'Albany'), ('NY', 'Syracuse'), ('NY', 'Buffalo'), ('NY', 'Rochester'), ('TX', 'Dallas'), ('CA', 'Sacramento'), ('CA', 'Palo Alto'), ('GA', 'Atlanta')]\n"
     ]
    }
   ],
   "source": [
    "print(city_list)\n",
    "#list of keys and values\n",
    "#want to make dictionary where key is texas and value is all the places that are in texas\n",
    "#list because square brackets"
   ]
  },
  {
   "cell_type": "code",
   "execution_count": 33,
   "metadata": {},
   "outputs": [
    {
     "name": "stdout",
     "output_type": "stream",
     "text": [
      "defaultdict(<class 'list'>, {'TX': ['Austin', 'Houston', 'Dallas'], 'NY': ['Albany', 'Syracuse', 'Buffalo', 'Rochester'], 'CA': ['Sacramento', 'Palo Alto'], 'GA': ['Atlanta']})\n"
     ]
    }
   ],
   "source": [
    "cities_by_state = defaultdict(list)\n",
    "#need to split associations from each other (key value pair)\n",
    "for state, city in city_list:\n",
    "    cities_by_state[state].append(city)\n",
    "#each key is made a list; each list empty by default because defaultdict\n",
    "print(cities_by_state)"
   ]
  },
  {
   "cell_type": "code",
   "execution_count": 35,
   "metadata": {},
   "outputs": [
    {
     "name": "stdout",
     "output_type": "stream",
     "text": [
      "TX Austin,Houston,Dallas\n",
      "NY Albany,Syracuse,Buffalo,Rochester\n",
      "CA Sacramento,Palo Alto\n",
      "GA Atlanta\n"
     ]
    }
   ],
   "source": [
    "#print(cities_by_state.items())\n",
    "\n",
    "for state, cities, in cities_by_state.items():\n",
    "    print(state, ','.join(cities))\n",
    "#.join makes things nice"
   ]
  },
  {
   "cell_type": "code",
   "execution_count": null,
   "metadata": {},
   "outputs": [],
   "source": []
  }
 ],
 "metadata": {
  "kernelspec": {
   "display_name": "Python 3",
   "language": "python",
   "name": "python3"
  },
  "language_info": {
   "codemirror_mode": {
    "name": "ipython",
    "version": 3
   },
   "file_extension": ".py",
   "mimetype": "text/x-python",
   "name": "python",
   "nbconvert_exporter": "python",
   "pygments_lexer": "ipython3",
   "version": "3.7.5"
  }
 },
 "nbformat": 4,
 "nbformat_minor": 2
}
