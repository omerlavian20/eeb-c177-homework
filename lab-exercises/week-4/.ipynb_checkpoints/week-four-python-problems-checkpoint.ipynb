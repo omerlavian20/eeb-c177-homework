{
 "cells": [
  {
   "cell_type": "code",
   "execution_count": 1,
   "metadata": {},
   "outputs": [
    {
     "name": "stdout",
     "output_type": "stream",
     "text": [
      "first three characters: oxy\n",
      "last three characters: gen\n"
     ]
    }
   ],
   "source": [
    "element = 'oxygen'\n",
    "print('first three characters:', element[0:3])\n",
    "print('last three characters:', element[3:6])"
   ]
  },
  {
   "cell_type": "code",
   "execution_count": 36,
   "metadata": {},
   "outputs": [
    {
     "name": "stdout",
     "output_type": "stream",
     "text": [
      "oxyg\n",
      "en\n",
      "oxygen\n"
     ]
    }
   ],
   "source": [
    "print(element[:4])\n",
    "print(element[4:])\n",
    "print(element[:])\n"
   ]
  },
  {
   "cell_type": "code",
   "execution_count": 3,
   "metadata": {},
   "outputs": [
    {
     "data": {
      "text/plain": [
       "'n'"
      ]
     },
     "execution_count": 3,
     "metadata": {},
     "output_type": "execute_result"
    }
   ],
   "source": [
    "element[-1]"
   ]
  },
  {
   "cell_type": "code",
   "execution_count": 4,
   "metadata": {},
   "outputs": [
    {
     "data": {
      "text/plain": [
       "'e'"
      ]
     },
     "execution_count": 4,
     "metadata": {},
     "output_type": "execute_result"
    }
   ],
   "source": [
    "element[-2]"
   ]
  },
  {
   "cell_type": "code",
   "execution_count": 5,
   "metadata": {},
   "outputs": [
    {
     "data": {
      "text/plain": [
       "'xyge'"
      ]
     },
     "execution_count": 5,
     "metadata": {},
     "output_type": "execute_result"
    }
   ],
   "source": [
    "element[1:-1]\n",
    "#Counting using negative numbers on a string caused Python to count from the end of the word\n",
    "#The colon tells Python to start counting at the place corresponding to the first character in the word up to but not including the place corresponding to the number after the colon\n",
    "#Thus, with the above command, Python starts by giving the \"1th\" (i.e. the letter corresponding to \"1,\" which isn't the first letter) letter in the word followed by the letter right before the \"-1th\" letter in the word, which is \"e\""
   ]
  },
  {
   "cell_type": "code",
   "execution_count": 6,
   "metadata": {},
   "outputs": [
    {
     "data": {
      "text/plain": [
       "''"
      ]
     },
     "execution_count": 6,
     "metadata": {},
     "output_type": "execute_result"
    }
   ],
   "source": [
    "element[3:3]\n",
    "#Python is going from letter 3 to up to but not including letter 3, so the 2 sides of the colon essentially negate each other, and the later information is taken into considertation by Python, leading to an empty string\n"
   ]
  },
  {
   "cell_type": "code",
   "execution_count": 7,
   "metadata": {},
   "outputs": [],
   "source": [
    "import numpy\n",
    "medical_data = numpy.loadtxt(fname='inflammation-01.csv', delimiter = \",\")"
   ]
  },
  {
   "cell_type": "code",
   "execution_count": 8,
   "metadata": {},
   "outputs": [
    {
     "data": {
      "text/plain": [
       "array([], shape=(0, 0), dtype=float64)"
      ]
     },
     "execution_count": 8,
     "metadata": {},
     "output_type": "execute_result"
    }
   ],
   "source": [
    "medical_data[3:3,4:4]\n",
    "#For similar reasons as to what I described above (essentially two contradicting commands), data[3:3,4:4] would print an empty array"
   ]
  },
  {
   "cell_type": "code",
   "execution_count": 9,
   "metadata": {},
   "outputs": [
    {
     "data": {
      "text/plain": [
       "array([], shape=(0, 40), dtype=float64)"
      ]
     },
     "execution_count": 9,
     "metadata": {},
     "output_type": "execute_result"
    }
   ],
   "source": [
    "medical_data[3:3,:]\n",
    "#This command tells Python to make an array with no rows and all the columns in medical_data\n",
    "#Thus, the data in the rows in removed, leaving an array with 40 empty columns"
   ]
  },
  {
   "cell_type": "code",
   "execution_count": 10,
   "metadata": {},
   "outputs": [
    {
     "name": "stdout",
     "output_type": "stream",
     "text": [
      "A = \n",
      "[[1 2 3]\n",
      " [4 5 6]\n",
      " [7 8 9]]\n",
      "B = \n",
      "[[1 2 3 1 2 3]\n",
      " [4 5 6 4 5 6]\n",
      " [7 8 9 7 8 9]]\n",
      "C = \n",
      "[[1 2 3]\n",
      " [4 5 6]\n",
      " [7 8 9]\n",
      " [1 2 3]\n",
      " [4 5 6]\n",
      " [7 8 9]]\n"
     ]
    }
   ],
   "source": [
    "A = numpy.array([[1,2,3], [4,5,6], [7, 8, 9]])\n",
    "print('A = ')\n",
    "print(A)\n",
    "\n",
    "B = numpy.hstack([A, A])\n",
    "print('B = ')\n",
    "print(B)\n",
    "\n",
    "C = numpy.vstack([A, A])\n",
    "print('C = ')\n",
    "print(C)"
   ]
  },
  {
   "cell_type": "code",
   "execution_count": 15,
   "metadata": {
    "scrolled": true
   },
   "outputs": [
    {
     "name": "stdout",
     "output_type": "stream",
     "text": [
      "D: \n",
      "[1 4 7]\n",
      "E: \n",
      "[3 6 9]\n",
      "Solution: \n",
      "[[1 4 7]\n",
      " [3 6 9]]\n"
     ]
    }
   ],
   "source": [
    "D=A[0:3,0]\n",
    "print('D: ')\n",
    "print(D)\n",
    "\n",
    "E=A[0:3,2]\n",
    "print('E: ')\n",
    "print(E)\n",
    "\n",
    "solution=numpy.vstack([D,E])\n",
    "print('Solution: ')\n",
    "print(solution)"
   ]
  },
  {
   "cell_type": "code",
   "execution_count": 16,
   "metadata": {},
   "outputs": [
    {
     "name": "stdout",
     "output_type": "stream",
     "text": [
      "Testing Solution to #2: \n",
      "Inflammation Data O.G. Shape: \n",
      "(54, 40)\n",
      "New Shape: \n",
      "(54, 39)\n"
     ]
    }
   ],
   "source": [
    "# 1.) Each row of inflammation data represents data taken at different times from ONE INDIVIDUAL. Therefore, numpy.diff would best be used across a row in order to track changes in inflammation over time.\n",
    "# 2.) A (60,40) array plugged into numpy.diff would produce a (60,39) array because numpy.diff acts on the last (\"-1st\") axis in the array by default (the columns in this case) and the function results in an row or column that is one value smaller than the one that was originally there.\n",
    "print('Testing Solution to #2: ')\n",
    "print('Inflammation Data O.G. Shape: ')\n",
    "print(medical_data.shape)\n",
    "Diffed=(numpy.diff(medical_data))\n",
    "print('New Shape: ')\n",
    "print(Diffed.shape)\n"
   ]
  },
  {
   "cell_type": "code",
   "execution_count": 38,
   "metadata": {},
   "outputs": [
    {
     "name": "stdout",
     "output_type": "stream",
     "text": [
      "Maximum Difference for Each Patient: \n",
      "[12. 14. 11. 12. 14. 11. 12. 14. 11. 12. 14. 11. 12. 14. 11. 12. 14. 11.\n",
      " 12. 14. 11. 12. 14. 11. 12. 14. 11. 12. 14. 11. 12. 14. 11. 12. 14. 11.\n",
      " 12. 14. 11. 12. 14. 11. 12. 14. 11. 12. 14. 11. 12. 14. 11. 12. 14. 11.]\n"
     ]
    }
   ],
   "source": [
    "AbsDiff=abs(Diffed)\n",
    "MaxDiff=numpy.nanmax(AbsDiff, axis=1)\n",
    "print('Maximum Difference for Each Patient: ')\n",
    "print(MaxDiff)\n",
    "\n",
    "# 3.) Convert the array containing the differences in inflammation for each patient to absolute values. Then find the maximum value for each row. Since, with this method, the differences are converted to their absolute values, the maximum difference in inflammation for each patient will be shown regardless of whether the change was an increase or decrease.\n",
    "\n"
   ]
  },
  {
   "cell_type": "code",
   "execution_count": 37,
   "metadata": {},
   "outputs": [
    {
     "name": "stdout",
     "output_type": "stream",
     "text": [
      "(54,)\n"
     ]
    }
   ],
   "source": [
    "print(MaxDiff.shape)\n",
    "#checking my work to make sure each patient is accounted for"
   ]
  },
  {
   "cell_type": "code",
   "execution_count": null,
   "metadata": {},
   "outputs": [],
   "source": []
  },
  {
   "cell_type": "code",
   "execution_count": null,
   "metadata": {},
   "outputs": [],
   "source": []
  }
 ],
 "metadata": {
  "kernelspec": {
   "display_name": "Python 3",
   "language": "python",
   "name": "python3"
  },
  "language_info": {
   "codemirror_mode": {
    "name": "ipython",
    "version": 3
   },
   "file_extension": ".py",
   "mimetype": "text/x-python",
   "name": "python",
   "nbconvert_exporter": "python",
   "pygments_lexer": "ipython3",
   "version": "3.7.5"
  }
 },
 "nbformat": 4,
 "nbformat_minor": 2
}
