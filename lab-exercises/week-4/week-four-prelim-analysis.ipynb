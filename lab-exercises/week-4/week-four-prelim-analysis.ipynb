{
 "cells": [
  {
   "cell_type": "code",
   "execution_count": 4,
   "metadata": {},
   "outputs": [],
   "source": [
    "import numpy as np"
   ]
  },
  {
   "cell_type": "code",
   "execution_count": 6,
   "metadata": {},
   "outputs": [
    {
     "name": "stdout",
     "output_type": "stream",
     "text": [
      "[[ 0.5   0.  ]\n",
      " [ 3.    0.25]\n",
      " [ 1.    1.  ]\n",
      " [ 0.5   0.  ]\n",
      " [ 1.    0.5 ]\n",
      " [ 0.5   1.  ]\n",
      " [ 2.    1.5 ]\n",
      " [ 1.    1.  ]\n",
      " [ 0.5   3.  ]\n",
      " [ 2.    7.  ]\n",
      " [10.    6.  ]\n",
      " [ 0.5   5.  ]\n",
      " [ 1.    4.  ]\n",
      " [ 1.5   1.  ]\n",
      " [ 0.5   3.  ]\n",
      " [ 1.5   7.  ]\n",
      " [ 0.5  10.  ]\n",
      " [ 6.    4.  ]\n",
      " [ 3.    5.  ]\n",
      " [ 0.5   4.  ]\n",
      " [ 0.5   4.  ]\n",
      " [ 3.    3.  ]\n",
      " [10.   10.  ]\n",
      " [ 4.    2.5 ]\n",
      " [ 5.    0.5 ]\n",
      " [ 1.    4.  ]\n",
      " [ 5.    2.  ]\n",
      " [ 1.5   1.  ]\n",
      " [ 0.75  2.  ]\n",
      " [ 1.5   1.5 ]\n",
      " [ 0.25  1.  ]\n",
      " [ 4.    2.  ]\n",
      " [ 4.    4.  ]\n",
      " [ 0.25  6.  ]\n",
      " [ 4.    4.  ]\n",
      " [ 1.    0.5 ]\n",
      " [ 3.    3.  ]\n",
      " [10.    0.25]\n",
      " [ 1.    0.5 ]\n",
      " [ 6.    3.  ]\n",
      " [ 0.5   0.  ]\n",
      " [ 0.5   6.  ]\n",
      " [ 1.    0.5 ]\n",
      " [ 0.5   5.  ]\n",
      " [10.    5.  ]\n",
      " [ 0.25  0.25]\n",
      " [ 2.    5.  ]\n",
      " [ 7.    7.  ]\n",
      " [ 4.    2.  ]\n",
      " [10.    0.5 ]\n",
      " [10.    4.  ]\n",
      " [ 6.    6.  ]\n",
      " [20.    3.  ]\n",
      " [ 3.    0.5 ]\n",
      " [ 0.5   4.  ]\n",
      " [ 0.5   2.  ]\n",
      " [ 5.    1.  ]\n",
      " [ 3.    5.  ]\n",
      " [ 2.    1.  ]\n",
      " [15.    3.  ]\n",
      " [12.    1.  ]\n",
      " [ 6.    3.  ]\n",
      " [ 2.    0.25]\n",
      " [10.    3.  ]\n",
      " [ 1.    2.  ]\n",
      " [ 4.    1.  ]]\n"
     ]
    }
   ],
   "source": [
    "Fleeing_Data = np.loadtxt(fname='Travel_vs_Cover.csv', delimiter = \",\")\n",
    "print(Fleeing_Data)"
   ]
  },
  {
   "cell_type": "code",
   "execution_count": 18,
   "metadata": {},
   "outputs": [],
   "source": [
    "#These data were extracted by copy-pasting from the original data file I submitted and making a new CSV file\n",
    "#The left numbers are the distance in meters that a dark-eyed junco (Junco hymenalis) fled from a threatening stimulus (in this case a researcher)\n",
    "#The right numbers represent the distance in meters the bird was from a source of cover before fleeing\n",
    "#Entries with only one value (i.e. only distance fled or only distance from cover) were deleted from this dataset so that the array could form properly in Python"
   ]
  },
  {
   "cell_type": "code",
   "execution_count": 30,
   "metadata": {
    "scrolled": true
   },
   "outputs": [],
   "source": [
    "DF = Fleeing_Data[0:,0]\n",
    "DC = Fleeing_Data[0:,1]\n",
    "#DF = distance fled from frightening stimulus\n",
    "#DC = initial distance from source of cover"
   ]
  },
  {
   "cell_type": "code",
   "execution_count": 52,
   "metadata": {},
   "outputs": [
    {
     "data": {
      "text/plain": [
       "2.9696969696969697"
      ]
     },
     "execution_count": 52,
     "metadata": {},
     "output_type": "execute_result"
    }
   ],
   "source": [
    "np.mean(abs(DC - DF))\n",
    "#Average difference in the distance from cover and the distance the birds fled\n",
    "#My hypothesis would be that birds would tend to flee a farther distance when farther from cover"
   ]
  },
  {
   "cell_type": "code",
   "execution_count": 53,
   "metadata": {},
   "outputs": [
    {
     "data": {
      "text/plain": [
       "3.324186831390621"
      ]
     },
     "execution_count": 53,
     "metadata": {},
     "output_type": "execute_result"
    }
   ],
   "source": [
    "np.std(abs(DC-DF))\n",
    "#Standard deviation of difference in distance from cover and distance birds fled"
   ]
  },
  {
   "cell_type": "code",
   "execution_count": 54,
   "metadata": {
    "scrolled": true
   },
   "outputs": [
    {
     "data": {
      "text/plain": [
       "17.0"
      ]
     },
     "execution_count": 54,
     "metadata": {},
     "output_type": "execute_result"
    }
   ],
   "source": [
    "np.ptp(abs(DC-DF))\n",
    "#Range of differences in distance from cover and distance fled"
   ]
  },
  {
   "cell_type": "code",
   "execution_count": 44,
   "metadata": {},
   "outputs": [
    {
     "data": {
      "text/plain": [
       "2.878787878787879"
      ]
     },
     "execution_count": 44,
     "metadata": {},
     "output_type": "execute_result"
    }
   ],
   "source": [
    "np.mean(DC)\n",
    "#Average distance from cover"
   ]
  },
  {
   "cell_type": "code",
   "execution_count": 45,
   "metadata": {},
   "outputs": [
    {
     "data": {
      "text/plain": [
       "3.6136363636363638"
      ]
     },
     "execution_count": 45,
     "metadata": {},
     "output_type": "execute_result"
    }
   ],
   "source": [
    "np.mean(DF)\n",
    "#Average distance fled"
   ]
  },
  {
   "cell_type": "code",
   "execution_count": 57,
   "metadata": {},
   "outputs": [],
   "source": []
  },
  {
   "cell_type": "code",
   "execution_count": 58,
   "metadata": {},
   "outputs": [
    {
     "data": {
      "text/plain": [
       "11.050218089990818"
      ]
     },
     "execution_count": 58,
     "metadata": {},
     "output_type": "execute_result"
    }
   ],
   "source": [
    "np.nanvar(abs(DC-DF))\n",
    "#Variance in difference between distance from cover and "
   ]
  },
  {
   "cell_type": "code",
   "execution_count": 68,
   "metadata": {},
   "outputs": [
    {
     "data": {
      "text/plain": [
       "array([[1.       , 0.1259855],\n",
       "       [0.1259855, 1.       ]])"
      ]
     },
     "execution_count": 68,
     "metadata": {},
     "output_type": "execute_result"
    }
   ],
   "source": [
    "np.corrcoef(np.swapaxes(Fleeing_Data,0,1))\n",
    "#Pearson product-moment correlation coefficient of distance fled compared to distance from cover\n",
    "#Somewhat close to 0-->not a strong correlation between these two factors"
   ]
  },
  {
   "cell_type": "code",
   "execution_count": null,
   "metadata": {},
   "outputs": [],
   "source": []
  }
 ],
 "metadata": {
  "kernelspec": {
   "display_name": "Python 3",
   "language": "python",
   "name": "python3"
  },
  "language_info": {
   "codemirror_mode": {
    "name": "ipython",
    "version": 3
   },
   "file_extension": ".py",
   "mimetype": "text/x-python",
   "name": "python",
   "nbconvert_exporter": "python",
   "pygments_lexer": "ipython3",
   "version": "3.7.5"
  }
 },
 "nbformat": 4,
 "nbformat_minor": 2
}
